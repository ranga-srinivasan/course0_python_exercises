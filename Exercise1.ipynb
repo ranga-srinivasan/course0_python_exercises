{
 "cells": [
  {
   "cell_type": "markdown",
   "id": "dc83b618-051b-45cb-87da-4d9c5b3d921a",
   "metadata": {},
   "source": [
    "<b>1. Write a Python function to find the factorial of a number using recursion.</b>"
   ]
  },
  {
   "cell_type": "markdown",
   "id": "f1cd9f31-f93f-4d0d-9bc4-ca76c26778f3",
   "metadata": {},
   "source": [
    "<b>Answer:</b>"
   ]
  },
  {
   "cell_type": "code",
   "execution_count": 4,
   "id": "846c01e7-34bb-4225-983d-cf30147a7c44",
   "metadata": {},
   "outputs": [
    {
     "name": "stdout",
     "output_type": "stream",
     "text": [
      "factorial of 0 =  0\n",
      "factorial of 1 =  1\n",
      "factorial of 5 =  120\n",
      "factorial of 6 =  720\n"
     ]
    }
   ],
   "source": [
    "def compute_factorial(n):\n",
    "    if n == 0 or n == 1:\n",
    "        return n\n",
    "\n",
    "    return n * compute_factorial(n-1)\n",
    "\n",
    "print('factorial of 0 = ', compute_factorial(0))\n",
    "print('factorial of 1 = ', compute_factorial(1))\n",
    "print('factorial of 5 = ', compute_factorial(5))\n",
    "print('factorial of 6 = ', compute_factorial(6))"
   ]
  },
  {
   "cell_type": "markdown",
   "id": "675cc493-4aec-4f99-8187-fe1c8c1ae270",
   "metadata": {},
   "source": [
    "<b>2. Given two lists, write a Python function to find the intersection (common elements) of the\n",
    "lists.</b>"
   ]
  },
  {
   "cell_type": "markdown",
   "id": "ae2ca58a-8739-40a3-abff-a6f1dc060672",
   "metadata": {},
   "source": [
    "<b>Answer:</b>"
   ]
  },
  {
   "cell_type": "code",
   "execution_count": 9,
   "id": "8191163b-e5bb-481a-a0fd-ec079298f8b7",
   "metadata": {},
   "outputs": [
    {
     "name": "stdout",
     "output_type": "stream",
     "text": [
      "Intersection element list =  [3, 4]\n",
      "Intersection element list =  []\n",
      "Intersection element list =  []\n",
      "Intersection element list =  [1, 2, 3, 4]\n"
     ]
    }
   ],
   "source": [
    "def find_intersection(lis1, list2):\n",
    "    intersection_elements = []\n",
    "    for l1 in list1:\n",
    "        for l2 in list2:\n",
    "            if l2 == l1:\n",
    "                intersection_elements.append(l2)\n",
    "\n",
    "    return intersection_elements\n",
    "\n",
    "list1 = [1, 2, 3, 4] \n",
    "list2 = [3, 4, 5, 6]\n",
    "print('Intersection element list = ', find_intersection(list1, list2))\n",
    "\n",
    "list1 = [1, 2, 3, 4] \n",
    "list2 = [5, 6]\n",
    "print('Intersection element list = ', find_intersection(list1, list2))\n",
    "\n",
    "list1 = [1, 2, 3, 4] \n",
    "list2 = []\n",
    "print('Intersection element list = ', find_intersection(list1, list2))\n",
    "\n",
    "list1 = [1, 2, 3, 4] \n",
    "print('Intersection element list = ', find_intersection(list1, list1))"
   ]
  },
  {
   "cell_type": "markdown",
   "id": "e399cc91-2345-47d5-9687-ac4b444d0b39",
   "metadata": {},
   "source": [
    "<b>3. Write a Python program to count the frequency of each element in a list.</b>"
   ]
  },
  {
   "cell_type": "markdown",
   "id": "218ebef5-e674-4289-8f4c-e5124864995f",
   "metadata": {},
   "source": [
    "<b>Answer:</b>"
   ]
  },
  {
   "cell_type": "code",
   "execution_count": 19,
   "id": "70f1acc2-06c2-42ad-9848-5454eb0c5a3b",
   "metadata": {},
   "outputs": [
    {
     "name": "stdout",
     "output_type": "stream",
     "text": [
      "Frequency of elements in the list =  {1: 1, 2: 2, 3: 3, 4: 1}\n",
      "Frequency of elements in the list =  {1: 3, 2: 2, 3: 3, 4: 1, 'a': 2, 1.2: 1}\n"
     ]
    }
   ],
   "source": [
    "def get_frequency_of_elements(list):\n",
    "    frequency_dict = {}\n",
    "    for l in list:\n",
    "        val = frequency_dict.get(l)\n",
    "        \n",
    "        if  val != None:\n",
    "            frequency_dict[l] = val + 1\n",
    "        else:\n",
    "            frequency_dict[l] = 1\n",
    "            \n",
    "    return frequency_dict     \n",
    "\n",
    "list1 = [1, 2, 2, 3, 3, 3, 4]\n",
    "print('Frequency of elements in the list = ', get_frequency_of_elements(list1))\n",
    "\n",
    "list2 = [1, 2, 2, 3, 3, 3, 4, 'a', 1.2, 'a', True, True]\n",
    "print('Frequency of elements in the list = ', get_frequency_of_elements(list2))"
   ]
  },
  {
   "cell_type": "markdown",
   "id": "112afb84-784c-4946-8fec-604535d05c88",
   "metadata": {},
   "source": [
    "<b>4. Write a Python program to remove duplicates from a list while preserving the original\n",
    "order.</b>"
   ]
  },
  {
   "cell_type": "markdown",
   "id": "aa0ad95b-33e3-49d4-ba00-72dc0d000eb5",
   "metadata": {},
   "source": [
    "<b>Answer:</b>"
   ]
  },
  {
   "cell_type": "code",
   "execution_count": 22,
   "id": "e0c8a948-bc71-4dc7-aae1-8d1d1982e7ad",
   "metadata": {},
   "outputs": [
    {
     "name": "stdout",
     "output_type": "stream",
     "text": [
      "List after removing duplicates =  [1, 2, 3, 4]\n",
      "List after removing duplicates =  [1.5, 'a', 2, 'c', 3.2, 4, 3]\n"
     ]
    }
   ],
   "source": [
    "def eliminate_duplicates(list):\n",
    "    unique_list = []\n",
    "    for l in list:\n",
    "        if l in unique_list:\n",
    "            continue\n",
    "        else:\n",
    "            unique_list.append(l)\n",
    "    return unique_list\n",
    "\n",
    "list1 = [1, 2, 2, 3, 4, 3]\n",
    "print('List after removing duplicates = ', eliminate_duplicates(list1))\n",
    "\n",
    "list2 = [1.5, 'a', 2, 'c', 2, 3.2, 4, 3, 'a', 'c']\n",
    "print('List after removing duplicates = ', eliminate_duplicates(list2))"
   ]
  },
  {
   "cell_type": "markdown",
   "id": "ad7aedc2-1561-45a1-ad72-906e6656b307",
   "metadata": {},
   "source": [
    "<b>5. Write a Python function to calculate nCr (binomial coefficient) using the formula\n",
    "nCr=n!r!(n−r)!nCr = \\frac{n!}{r!(n-r)!}nCr=r!(n−r)!n! .</b>"
   ]
  },
  {
   "cell_type": "markdown",
   "id": "3793e3cc-09bf-486e-81f2-d28e7af0c997",
   "metadata": {},
   "source": [
    "<b>Answer:</b>"
   ]
  },
  {
   "cell_type": "code",
   "execution_count": 24,
   "id": "6e224cc2-b3c1-4c78-b6a5-f2f1ac0bbba4",
   "metadata": {},
   "outputs": [
    {
     "name": "stdout",
     "output_type": "stream",
     "text": [
      "ncr of n = 5 and r = 3 is:  10.0\n",
      "ncr of n = 7 and r = 4 is:  35.0\n"
     ]
    }
   ],
   "source": [
    "def compute_ncr(n, r):\n",
    "    n_factorial = compute_factorial(n)\n",
    "    r_factorial = compute_factorial(r)\n",
    "    n_minus_r_factorial = compute_factorial(n-r)\n",
    "\n",
    "    ncr = 0\n",
    "    if r_factorial > 0 and n_minus_r_factorial > 0:\n",
    "        ncr = n_factorial/(r_factorial * n_minus_r_factorial)\n",
    "\n",
    "    return ncr\n",
    "\n",
    "print('ncr of n = 5 and r = 3 is: ', compute_ncr(5, 3))\n",
    "print('ncr of n = 7 and r = 4 is: ', compute_ncr(7, 4))"
   ]
  },
  {
   "cell_type": "markdown",
   "id": "713b9eb0-eb5d-42a9-99aa-0eb1d632c8f3",
   "metadata": {},
   "source": [
    "<b>6. Write a Python function that takes a string as input and returns the string reversed.</b>"
   ]
  },
  {
   "cell_type": "markdown",
   "id": "e6e87977-c993-4663-b4cd-4019220c3821",
   "metadata": {},
   "source": [
    "<b>Answer:</b>"
   ]
  },
  {
   "cell_type": "code",
   "execution_count": 36,
   "id": "3fbc52ac-56c3-4811-8365-262e5f924079",
   "metadata": {},
   "outputs": [
    {
     "name": "stdout",
     "output_type": "stream",
     "text": [
      "Reverse of hello =  olleh\n",
      "Reverse of world =  dlrow\n"
     ]
    }
   ],
   "source": [
    "\"\"\"\n",
    "As the last character of string can be accessed through negative indexing\n",
    "and a string can be sliced using their start:end:step counters, we can reverse a\n",
    "string using start = -1 and end = (len(string) + 1)* -1 and step: -1\n",
    "\"\"\"\n",
    "def reverse_string(input_string):\n",
    "    length = len(input_string)\n",
    "    return input_string[-1: -1*(length+1):-1]\n",
    "\n",
    "print('Reverse of hello = ', reverse_string('hello'))\n",
    "print('Reverse of world = ', reverse_string('world'))"
   ]
  },
  {
   "cell_type": "markdown",
   "id": "9a4621f7-5e49-4e88-8727-4f7dcb94241e",
   "metadata": {},
   "source": [
    "<b>7. Write a Python program to check if a given year is a leap year or not.</b>"
   ]
  },
  {
   "cell_type": "markdown",
   "id": "9cae8fdf-6b81-4319-8f07-8b70099e37f1",
   "metadata": {},
   "source": [
    "<b>Answer:</b>"
   ]
  },
  {
   "cell_type": "code",
   "execution_count": 42,
   "id": "a775100a-068c-4acb-b999-0f81b62e5cb1",
   "metadata": {},
   "outputs": [
    {
     "name": "stdout",
     "output_type": "stream",
     "text": [
      "1900  is not a leap year\n",
      "2000  is a leap year\n",
      "2020  is a leap year\n",
      "2023  is not a leap year\n",
      "2024  is a leap year\n"
     ]
    }
   ],
   "source": [
    "def is_leap_year(year):\n",
    "    if year % 4 == 0:\n",
    "        if year % 100 == 0:\n",
    "            if year % 400 == 0:\n",
    "                print(year, ' is a leap year')\n",
    "            else:\n",
    "                print(year, ' is not a leap year')\n",
    "        else:\n",
    "            print(year, ' is a leap year')\n",
    "    else:\n",
    "        print(year, ' is not a leap year')\n",
    "\n",
    "is_leap_year(1900)\n",
    "is_leap_year(2000)\n",
    "is_leap_year(2020)\n",
    "is_leap_year(2023)\n",
    "is_leap_year(2024)"
   ]
  },
  {
   "cell_type": "markdown",
   "id": "e00a1064-234d-4bb0-832c-3a34c9a4e4b6",
   "metadata": {},
   "source": [
    "<b>8. Write a Python function to count the number of vowels in a given string.</b>"
   ]
  },
  {
   "cell_type": "markdown",
   "id": "2b88191d-0967-429e-8594-e5ff6d85bd5b",
   "metadata": {},
   "source": [
    "<b>Answer:</b>"
   ]
  },
  {
   "cell_type": "code",
   "execution_count": 44,
   "id": "1bc89454-14a1-42c8-b330-038be4e00666",
   "metadata": {},
   "outputs": [
    {
     "name": "stdout",
     "output_type": "stream",
     "text": [
      "Number of vowels in  hello world  =  3\n",
      "Number of vowels in  Vande Bharat  =  4\n"
     ]
    }
   ],
   "source": [
    "def count_number_of_vowels(string):\n",
    "    number_of_vowels = 0\n",
    "    vowels = ['a', 'e', 'i', 'o', 'u']\n",
    "    for s in string:\n",
    "        if s in vowels:\n",
    "            number_of_vowels += 1\n",
    "    return number_of_vowels\n",
    "\n",
    "string1 = 'hello world'\n",
    "print('Number of vowels in ', string1, ' = ', count_number_of_vowels(string1))\n",
    "\n",
    "string2 = 'Vande Bharat'\n",
    "print('Number of vowels in ', string2, ' = ', count_number_of_vowels(string2))"
   ]
  },
  {
   "cell_type": "markdown",
   "id": "8a32ae7c-972a-4a6a-962e-872e48227eb8",
   "metadata": {},
   "source": [
    "<b>9. Write a Python function that takes a list of integers and returns a tuple containing the\n",
    "maximum and minimum values from the list.</b>"
   ]
  },
  {
   "cell_type": "markdown",
   "id": "0f3dfd27-6cf1-430b-bbb2-d7f53971edc6",
   "metadata": {},
   "source": [
    "<b>Answer:</b>"
   ]
  },
  {
   "cell_type": "code",
   "execution_count": 46,
   "id": "c39bfdbb-9b5f-4be0-8ed4-1adc9acd5b16",
   "metadata": {},
   "outputs": [
    {
     "name": "stdout",
     "output_type": "stream",
     "text": [
      "Max min tuple of the list of integers in  [1, 2, 3, 4, 5]  =  (5, 1)\n",
      "Max min tuple of the list of integers in  [7, 9, 11, -1, 0, 3, 2]  =  (11, -1)\n"
     ]
    }
   ],
   "source": [
    "def get_min_max(list):\n",
    "    min = list[0]\n",
    "    max = list[0]\n",
    "    for l in list:\n",
    "        if l > max:\n",
    "            max = l\n",
    "        if l < min:\n",
    "            min = l\n",
    "    return (max, min)\n",
    "\n",
    "list1 = [1, 2, 3, 4, 5]\n",
    "print('Max min tuple of the list of integers in ', list1, ' = ', get_min_max(list1))\n",
    "\n",
    "list2 = [7, 9, 11, -1, 0, 3, 2]\n",
    "print('Max min tuple of the list of integers in ', list2, ' = ', get_min_max(list2))"
   ]
  },
  {
   "cell_type": "markdown",
   "id": "c068be36-55a2-4109-970d-57633ac8c067",
   "metadata": {},
   "source": [
    "<b>10. Write a Python function that takes a list of integers and returns the sum of all the even\n",
    "numbers in the list.</b>"
   ]
  },
  {
   "cell_type": "markdown",
   "id": "1f08d949-c70e-40d6-93b8-ebdd8945c2e6",
   "metadata": {},
   "source": [
    "<b>Answer:</b>"
   ]
  },
  {
   "cell_type": "code",
   "execution_count": 50,
   "id": "c6fb503d-8ed1-4f0c-a6c3-cbb880172eb2",
   "metadata": {},
   "outputs": [
    {
     "name": "stdout",
     "output_type": "stream",
     "text": [
      "Sumof even numbers in  [1, 2, 3, 4, 5]  =  6\n",
      "Sumof even numbers in  [7, 9, 11, -1, 0, 3, 2]  =  2\n"
     ]
    }
   ],
   "source": [
    "def get_sum_of_even_numbers(list):\n",
    "    sum = 0\n",
    "    for l in list:\n",
    "        if l % 2 == 0:\n",
    "            sum += l\n",
    "    return sum\n",
    "\n",
    "list1 = [1, 2, 3, 4, 5]\n",
    "print('Sumof even numbers in ', list1, ' = ', get_sum_of_even_numbers(list1))\n",
    "\n",
    "list2 = [7, 9, 11, -1, 0, 3, 2]\n",
    "print('Sumof even numbers in ', list2, ' = ', get_sum_of_even_numbers(list2))"
   ]
  },
  {
   "cell_type": "markdown",
   "id": "0e645197-5244-4409-8bff-b7cd9bfce3d9",
   "metadata": {},
   "source": [
    "<b>11. Write a Python function that takes a list of integers and returns the second largest element\n",
    "in the list. If there is no second largest, return None.</b>"
   ]
  },
  {
   "cell_type": "markdown",
   "id": "7d96a38f-5c2b-4443-861c-14e7ca916d16",
   "metadata": {},
   "source": [
    "<b>Answer:</b>"
   ]
  },
  {
   "cell_type": "code",
   "execution_count": 68,
   "id": "22ed8ad5-7404-4d19-8534-eb17763c18f2",
   "metadata": {},
   "outputs": [
    {
     "name": "stdout",
     "output_type": "stream",
     "text": [
      "second largest number in the list =  4\n",
      "second largest number in the list =  9\n",
      "second largest number in the list =  None\n"
     ]
    }
   ],
   "source": [
    "def get_max(list):\n",
    "    max = list[0]\n",
    "    for l in list:\n",
    "        if l > max:\n",
    "            max = l\n",
    "    return max\n",
    "\n",
    "def find_second_largest_number(list):\n",
    "    local_list = list.copy()\n",
    "    max = local_list[0]\n",
    "    max_index = 0\n",
    "    i = 0\n",
    "    for l in local_list:\n",
    "        if l > max:\n",
    "            max = l\n",
    "            max_index = i\n",
    "        i += 1\n",
    "    local_list.pop(max_index)\n",
    "\n",
    "    second_max = local_list[0]\n",
    "    for l in local_list:\n",
    "        if l > second_max:\n",
    "            second_max = l\n",
    "\n",
    "    if max == second_max:\n",
    "        return 'None'\n",
    "        \n",
    "    return second_max\n",
    "\n",
    "list1 = [1, 2, 3, 4, 5]\n",
    "print('second largest number in the list = ', find_second_largest_number(list1))\n",
    "\n",
    "list2 = [7, 9, 11, -1, 0, 3, 2]\n",
    "print('second largest number in the list = ', find_second_largest_number(list2))\n",
    "\n",
    "list3 = [5, 5, 5]\n",
    "print('second largest number in the list = ', find_second_largest_number(list3))"
   ]
  },
  {
   "cell_type": "markdown",
   "id": "2ceedfe2-0054-4052-bc29-56bddcd5e639",
   "metadata": {},
   "source": [
    "<b>12. Write a Python function that removes all whitespace characters (spaces, tabs, etc.) from a\n",
    "string.</b>"
   ]
  },
  {
   "cell_type": "markdown",
   "id": "1e46d22e-f87a-4f80-a7da-15c0f8f888b1",
   "metadata": {},
   "source": [
    "<b>Answer:</b>"
   ]
  },
  {
   "cell_type": "code",
   "execution_count": 85,
   "id": "910148c4-b4e4-4441-860f-4af1d0a16c1b",
   "metadata": {},
   "outputs": [
    {
     "name": "stdout",
     "output_type": "stream",
     "text": [
      "helloworld\n",
      "thisisatesttoremoveallwhitespaces\n"
     ]
    }
   ],
   "source": [
    "def remove_all_whitespaces(string):\n",
    "    str_list = string.split(' ')\n",
    "    new_str = ''\n",
    "    for sl in str_list:\n",
    "        s = sl.strip()\n",
    "        new_str += s\n",
    "    return new_str\n",
    "\n",
    "s1 = 'hello world'\n",
    "print(remove_all_whitespaces(s1))\n",
    "\n",
    "s2 = '   \\tthis is a test to remove \\t\\tall whitespaces   '\n",
    "print(remove_all_whitespaces(s2))"
   ]
  },
  {
   "cell_type": "markdown",
   "id": "364065c2-7532-436d-943d-59c170acb250",
   "metadata": {},
   "source": [
    "<b>13. Write a Python function that takes a string and returns the length of the longest word in\n",
    "the string.</b>"
   ]
  },
  {
   "cell_type": "markdown",
   "id": "c991cee1-4706-4fec-827d-bbc695bab171",
   "metadata": {},
   "source": [
    "<b>Answer:</b>"
   ]
  },
  {
   "cell_type": "code",
   "execution_count": 88,
   "id": "54790c0b-dd16-4b06-984f-e0fa2487a946",
   "metadata": {},
   "outputs": [
    {
     "name": "stdout",
     "output_type": "stream",
     "text": [
      "Longest word length =  8\n",
      "Longest word length =  5\n"
     ]
    }
   ],
   "source": [
    "def find_longest_word(string):\n",
    "    words = string.split(' ')\n",
    "    max_word_length = 0\n",
    "    for w in words:\n",
    "        if len(w) > max_word_length:\n",
    "            max_word_length = len(w)\n",
    "    return max_word_length\n",
    "        \n",
    "string1 = 'this is to find the longest word in the sentence'\n",
    "print('Longest word length = ', find_longest_word(string1))\n",
    "\n",
    "string2 = 'The quick brown fox'\n",
    "print('Longest word length = ', find_longest_word(string2))"
   ]
  },
  {
   "cell_type": "markdown",
   "id": "1cbae744-6081-4c6d-a849-408e7478d7d8",
   "metadata": {},
   "source": [
    "<b>14. Write a Python function that prints the multiplication table for a given number from 1 to\n",
    "10.</b>"
   ]
  },
  {
   "cell_type": "markdown",
   "id": "42c4af94-b869-4c5d-ace2-a0a35cee3685",
   "metadata": {},
   "source": [
    "<b>Answer:</b>"
   ]
  },
  {
   "cell_type": "code",
   "execution_count": 90,
   "id": "a7137316-baa2-465d-91d9-455594ae4718",
   "metadata": {},
   "outputs": [
    {
     "name": "stdout",
     "output_type": "stream",
     "text": [
      "Multiplication table for 3\n",
      "#  3 x  1  =  3\n",
      "#  3 x  2  =  6\n",
      "#  3 x  3  =  9\n",
      "#  3 x  4  =  12\n",
      "#  3 x  5  =  15\n",
      "#  3 x  6  =  18\n",
      "#  3 x  7  =  21\n",
      "#  3 x  8  =  24\n",
      "#  3 x  9  =  27\n",
      "#  3 x  10  =  30\n",
      "Multiplication table for 5\n",
      "#  5 x  1  =  5\n",
      "#  5 x  2  =  10\n",
      "#  5 x  3  =  15\n",
      "#  5 x  4  =  20\n",
      "#  5 x  5  =  25\n",
      "#  5 x  6  =  30\n",
      "#  5 x  7  =  35\n",
      "#  5 x  8  =  40\n",
      "#  5 x  9  =  45\n",
      "#  5 x  10  =  50\n"
     ]
    }
   ],
   "source": [
    "def print_multiplication_table(n):\n",
    "    for i in range(1, 11):\n",
    "        print('# ', n, 'x ', i, ' = ', n*i)\n",
    "\n",
    "print('Multiplication table for 3')\n",
    "print_multiplication_table(3)\n",
    "\n",
    "print('Multiplication table for 5')\n",
    "print_multiplication_table(5)"
   ]
  },
  {
   "cell_type": "markdown",
   "id": "3b493157-497c-4238-a488-6c0521712988",
   "metadata": {},
   "source": [
    "<b>15. Write a Python function that prints all prime numbers between start and end (inclusive).</b>"
   ]
  },
  {
   "cell_type": "markdown",
   "id": "c7f98144-4bbe-43ba-87f1-6ef898a2e09f",
   "metadata": {},
   "source": [
    "<b>Answer:</b>"
   ]
  },
  {
   "cell_type": "code",
   "execution_count": 93,
   "id": "2445f8bc-e74c-40d6-a1a5-7b9c85c57827",
   "metadata": {},
   "outputs": [
    {
     "name": "stdout",
     "output_type": "stream",
     "text": [
      "11 13 17 19 \n",
      "11 13 17 19 23 \n"
     ]
    }
   ],
   "source": [
    "def print_all_prime_numbers_between(a, b):\n",
    "    start = a\n",
    "    end = b\n",
    "    i = start\n",
    "    while i <= end:\n",
    "        if ((i % 2) != 0) and ((i % 3) != 0):\n",
    "            print(i, end=' ')\n",
    "        i += 1\n",
    "    print()\n",
    "\n",
    "print_all_prime_numbers_between(10, 20)\n",
    "print_all_prime_numbers_between(11, 23)"
   ]
  },
  {
   "cell_type": "code",
   "execution_count": null,
   "id": "d2c663de-2c7c-4669-a14f-76ef9648536b",
   "metadata": {},
   "outputs": [],
   "source": []
  }
 ],
 "metadata": {
  "kernelspec": {
   "display_name": "Python 3 (ipykernel)",
   "language": "python",
   "name": "python3"
  },
  "language_info": {
   "codemirror_mode": {
    "name": "ipython",
    "version": 3
   },
   "file_extension": ".py",
   "mimetype": "text/x-python",
   "name": "python",
   "nbconvert_exporter": "python",
   "pygments_lexer": "ipython3",
   "version": "3.12.7"
  }
 },
 "nbformat": 4,
 "nbformat_minor": 5
}
